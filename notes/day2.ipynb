{
  "cells": [
    {
      "cell_type": "raw",
      "metadata": {},
      "source": [
        "---\n",
        "format: revealjs\n",
        "title: 1.3 Matrix Equations\n",
        "author: Jeremy Teitelbaum\n",
        "---"
      ],
      "id": "562e4935"
    },
    {
      "cell_type": "markdown",
      "metadata": {},
      "source": [
        "## Vectors\n",
        "\n",
        "A vector (in $\\mathbf{R}^{n}$) is an $n$-tuple of real numbers.  For example\n",
        "\n",
        "$$\n",
        "v = (-1,3,2,5,0,7)\n",
        "$$\n",
        "\n",
        "is a vector in $\\mathbf{R}^{6}$.\n",
        "\n",
        "Vectors can be written as matrices with one column (column vectors).\n",
        "\n",
        "$$\n",
        "v = \\begin{pmatrix} -1 \\\\ 3\\\\2\\\\5\\\\0\\\\7\\end{pmatrix}\n",
        "$$\n",
        "\n",
        "## Vector arithmetic\n",
        "\n",
        "Vectors can be added:\n",
        "\n",
        "$$\n",
        "\\begin{pmatrix} 1 \\\\ -3\\\\ 5\\end{pmatrix} + \\begin{pmatrix} 4 \\\\ -1 \\\\11\\end{pmatrix} = \\begin{pmatrix} 5 \\\\-4\\\\16\\end{pmatrix}\n",
        "$$\n",
        "\n",
        "Vectors can be multiplied by a number (a *scalar*):\n",
        "\n",
        "$$\n",
        "3\\begin{pmatrix} 1 \\\\ -3 \\\\5\\end{pmatrix} = \\begin{pmatrix} 3 \\\\ -9 \\\\ 15\\end{pmatrix}\n",
        "$$\n",
        "\n",
        "\n",
        "## Geometric interpretation\n"
      ],
      "id": "6029023f"
    },
    {
      "cell_type": "code",
      "metadata": {},
      "source": [
        "import matplotlib.pyplot as plt\n",
        "\n",
        "# Starting point of the vector\n",
        "x_start, y_start = 0, 0\n",
        "\n",
        "# Components of the vector (2,3)\n",
        "x_comp, y_comp = 2, 3\n",
        "\n",
        "# Create the plot\n",
        "plt.figure()\n",
        "plt.quiver(\n",
        "    x_start, y_start, x_comp, y_comp, angles=\"xy\", scale_units=\"xy\", scale=1, color=\"r\"\n",
        ")\n",
        "plt.quiver(0, 0, -1, 2, angles=\"xy\", scale_units=\"xy\", scale=1, color=\"g\")\n",
        "\n",
        "plt.quiver(-1, 2, 2, 3, angles=\"xy\", scale_units=\"xy\", scale=1, color=\"r\")\n",
        "\n",
        "plt.quiver(2, 3, -1, 2, angles=\"xy\", scale_units=\"xy\", scale=1)\n",
        "\n",
        "plt.quiver(0, 0, 1, 5, angles=\"xy\", scale_units=\"xy\", scale=1)\n",
        "\n",
        "plt.text(-1, 1, \"(-1,2)\", fontsize=12)\n",
        "plt.text(1, 1, \"(2,3)\", fontsize=12)\n",
        "plt.text(1.2, 5.2, \"sum of (-1,2) and (2,3)\", fontsize=12)\n",
        "# Optionally, set the plot limits\n",
        "plt.xlim(-3, 3)\n",
        "plt.ylim(0, 6)\n",
        "\n",
        "# Optionally, add grid, labels, and title\n",
        "plt.grid(True)\n",
        "plt.xlabel(\"X axis\")\n",
        "plt.ylabel(\"Y axis\")\n",
        "\n",
        "\n",
        "# Display the plot\n",
        "plt.show()"
      ],
      "id": "22079853",
      "execution_count": null,
      "outputs": []
    },
    {
      "cell_type": "markdown",
      "metadata": {},
      "source": [
        "This illustrates the \"parallelogram law.\" A similar picture holds in higher dimensions but is hard to draw.\n",
        "\n",
        "## Linear combinations\n"
      ],
      "id": "da9118d7"
    }
  ],
  "metadata": {
    "kernelspec": {
      "name": "torch311",
      "language": "python",
      "display_name": "torch311"
    }
  },
  "nbformat": 4,
  "nbformat_minor": 5
}