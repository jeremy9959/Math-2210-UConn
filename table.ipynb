{
 "cells": [
  {
   "cell_type": "code",
   "execution_count": 2,
   "metadata": {},
   "outputs": [],
   "source": [
    "result = ''\n",
    "with open(\"schedule.txt\") as f:\n",
    "    header = f.readline()\n",
    "    result += header\n",
    "    blank = f.readline()\n",
    "    result += blank\n",
    "    result += \"|Week | Dates | Sections |\\n\"\n",
    "    result += \"|:---|:---|:---|\\n\"\n",
    "\n",
    "    for i,line in enumerate(f):\n",
    "        result += f\"|{i+1}|{line.split()[0]}|{' '.join(line.split()[1:])}|\\n\"\n",
    "\n",
    "with open(\"fixed_schedule.md\", \"w\") as f:\n",
    "    f.write(result)\n"
   ]
  },
  {
   "cell_type": "code",
   "execution_count": 3,
   "metadata": {},
   "outputs": [
    {
     "data": {
      "text/plain": [
       "'## Math 2210 Schedule\\n\\n|Week | Dates | Sections |\\n|:---|:---|:---|\\n|1|8/27-8/29|Sections 1.1-1.3|\\n|2|9/3-9/5|Sections 1.4-1.7|\\n|3|9/10-9/12|Sections 1.8-2.1|\\n|4|9/17-9/19|Sections 2.2-2.3; 3.1-3.2|\\n|5|9/24-9/26|Section 3.3-4.1; Review|\\n|6|10/1-10/3|Exam 1 (No class 10/3, Rosh Hashanah)|\\n|7|10/8-10/10|Section 4.2-4.4|\\n|8|10/15-10/17|Section 4.5-4.7|\\n|9|10/22-10/24|Section 5.1-5.3|\\n|10|10/29-10/31|Section 5.4; Review|\\n|11|11/5-11/7|Exam 2; Section 6.1-6.2|\\n|12|11/12-11/14|Section 6.3-6.5|\\n|13|11/19-11/21|Section 7.1 - 7.3|\\n|14|11/26-11/28|No class; Thanksgiving Break|\\n|15|12/3-12/5|Section 7.4; Review|\\n'"
      ]
     },
     "execution_count": 3,
     "metadata": {},
     "output_type": "execute_result"
    }
   ],
   "source": [
    "result"
   ]
  },
  {
   "cell_type": "code",
   "execution_count": null,
   "metadata": {},
   "outputs": [],
   "source": []
  }
 ],
 "metadata": {
  "kernelspec": {
   "display_name": "base",
   "language": "python",
   "name": "python3"
  },
  "language_info": {
   "codemirror_mode": {
    "name": "ipython",
    "version": 3
   },
   "file_extension": ".py",
   "mimetype": "text/x-python",
   "name": "python",
   "nbconvert_exporter": "python",
   "pygments_lexer": "ipython3",
   "version": "3.11.5"
  }
 },
 "nbformat": 4,
 "nbformat_minor": 2
}
